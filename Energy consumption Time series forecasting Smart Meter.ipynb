{
 "cells": [
  {
   "cell_type": "code",
   "execution_count": 1,
   "metadata": {},
   "outputs": [],
   "source": [
    "import numpy as np\n",
    "import matplotlib as plt\n",
    "import pandas as pd\n",
    "%matplotlib inline\n",
    "from matplotlib import rcParams\n",
    "rcPramas['figure.figsize'] = 10, 6"
   ]
  },
  {
   "cell_type": "code",
   "execution_count": 2,
   "metadata": {},
   "outputs": [],
   "source": [
    "dataset = pd.read_csv(\"3098000032-Mar18-Mar19.csv\")"
   ]
  },
  {
   "cell_type": "code",
   "execution_count": 6,
   "metadata": {},
   "outputs": [],
   "source": [
    "\n",
    "df = pd.DataFrame(dataset, columns=['kWh', 'Time_stamp'])\n"
   ]
  },
  {
   "cell_type": "code",
   "execution_count": 7,
   "metadata": {},
   "outputs": [
    {
     "data": {
      "text/html": [
       "<div>\n",
       "<style scoped>\n",
       "    .dataframe tbody tr th:only-of-type {\n",
       "        vertical-align: middle;\n",
       "    }\n",
       "\n",
       "    .dataframe tbody tr th {\n",
       "        vertical-align: top;\n",
       "    }\n",
       "\n",
       "    .dataframe thead th {\n",
       "        text-align: right;\n",
       "    }\n",
       "</style>\n",
       "<table border=\"1\" class=\"dataframe\">\n",
       "  <thead>\n",
       "    <tr style=\"text-align: right;\">\n",
       "      <th></th>\n",
       "      <th>kWh</th>\n",
       "      <th>Time_stamp</th>\n",
       "    </tr>\n",
       "  </thead>\n",
       "  <tbody>\n",
       "    <tr>\n",
       "      <td>0</td>\n",
       "      <td>10.854</td>\n",
       "      <td>2018-03-01 15:30:00</td>\n",
       "    </tr>\n",
       "    <tr>\n",
       "      <td>1</td>\n",
       "      <td>10.750</td>\n",
       "      <td>2018-03-01 14:30:00</td>\n",
       "    </tr>\n",
       "    <tr>\n",
       "      <td>2</td>\n",
       "      <td>12.325</td>\n",
       "      <td>2018-03-05 09:00:00</td>\n",
       "    </tr>\n",
       "    <tr>\n",
       "      <td>3</td>\n",
       "      <td>12.372</td>\n",
       "      <td>2018-03-05 09:30:00</td>\n",
       "    </tr>\n",
       "    <tr>\n",
       "      <td>4</td>\n",
       "      <td>12.415</td>\n",
       "      <td>2018-03-05 10:00:00</td>\n",
       "    </tr>\n",
       "    <tr>\n",
       "      <td>...</td>\n",
       "      <td>...</td>\n",
       "      <td>...</td>\n",
       "    </tr>\n",
       "    <tr>\n",
       "      <td>17457</td>\n",
       "      <td>6781.400</td>\n",
       "      <td>2019-03-31 22:00:00</td>\n",
       "    </tr>\n",
       "    <tr>\n",
       "      <td>17458</td>\n",
       "      <td>6781.920</td>\n",
       "      <td>2019-03-31 22:30:00</td>\n",
       "    </tr>\n",
       "    <tr>\n",
       "      <td>17459</td>\n",
       "      <td>6782.520</td>\n",
       "      <td>2019-03-31 23:00:00</td>\n",
       "    </tr>\n",
       "    <tr>\n",
       "      <td>17460</td>\n",
       "      <td>6783.120</td>\n",
       "      <td>2019-03-31 23:30:00</td>\n",
       "    </tr>\n",
       "    <tr>\n",
       "      <td>17461</td>\n",
       "      <td>6783.840</td>\n",
       "      <td>2019-04-01 00:00:00</td>\n",
       "    </tr>\n",
       "  </tbody>\n",
       "</table>\n",
       "<p>17462 rows × 2 columns</p>\n",
       "</div>"
      ],
      "text/plain": [
       "            kWh           Time_stamp\n",
       "0        10.854  2018-03-01 15:30:00\n",
       "1        10.750  2018-03-01 14:30:00\n",
       "2        12.325  2018-03-05 09:00:00\n",
       "3        12.372  2018-03-05 09:30:00\n",
       "4        12.415  2018-03-05 10:00:00\n",
       "...         ...                  ...\n",
       "17457  6781.400  2019-03-31 22:00:00\n",
       "17458  6781.920  2019-03-31 22:30:00\n",
       "17459  6782.520  2019-03-31 23:00:00\n",
       "17460  6783.120  2019-03-31 23:30:00\n",
       "17461  6783.840  2019-04-01 00:00:00\n",
       "\n",
       "[17462 rows x 2 columns]"
      ]
     },
     "execution_count": 7,
     "metadata": {},
     "output_type": "execute_result"
    }
   ],
   "source": [
    "df"
   ]
  },
  {
   "cell_type": "code",
   "execution_count": null,
   "metadata": {},
   "outputs": [],
   "source": []
  }
 ],
 "metadata": {
  "kernelspec": {
   "display_name": "Python 3",
   "language": "python",
   "name": "python3"
  },
  "language_info": {
   "codemirror_mode": {
    "name": "ipython",
    "version": 3
   },
   "file_extension": ".py",
   "mimetype": "text/x-python",
   "name": "python",
   "nbconvert_exporter": "python",
   "pygments_lexer": "ipython3",
   "version": "3.7.4"
  }
 },
 "nbformat": 4,
 "nbformat_minor": 2
}
