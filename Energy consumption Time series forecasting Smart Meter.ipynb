{
 "cells": [
  {
   "cell_type": "markdown",
   "metadata": {},
   "source": [
    " # Time series prediction\n",
    " \n",
    " Predict kW 48 hours ahead of current time.\n",
    " \n",
    " In this data reading of meter is bi-hourly. We have to get houly reading in predictions. \n",
    " \n",
    " For optimization, our prediction shold not be deviated more than ±5kWh.\n",
    " \n",
    " ## To Do\n",
    " \n",
    " 1- Sampling(convert bi-hourly data into hourly data)\n",
    " \n",
    " 2- Filling the Data\n",
    " \n",
    " 3- Sorting the data timewise\n",
    " \n",
    " 4- Analysis"
   ]
  },
  {
   "cell_type": "code",
   "execution_count": 22,
   "metadata": {},
   "outputs": [],
   "source": [
    "import numpy as np\n",
    "import matplotlib.pylab as plt\n",
    "import pandas as pd\n",
    "%matplotlib inline\n",
    "from matplotlib.pylab import rcParams\n",
    "#rcPramas['figure.figsize'] = 10, 6"
   ]
  },
  {
   "cell_type": "code",
   "execution_count": 23,
   "metadata": {},
   "outputs": [],
   "source": [
    "dataset = pd.read_csv(\"3098000032-Mar18-Mar19.csv\")"
   ]
  },
  {
   "cell_type": "code",
   "execution_count": 24,
   "metadata": {},
   "outputs": [
    {
     "data": {
      "text/html": [
       "<div>\n",
       "<style scoped>\n",
       "    .dataframe tbody tr th:only-of-type {\n",
       "        vertical-align: middle;\n",
       "    }\n",
       "\n",
       "    .dataframe tbody tr th {\n",
       "        vertical-align: top;\n",
       "    }\n",
       "\n",
       "    .dataframe thead th {\n",
       "        text-align: right;\n",
       "    }\n",
       "</style>\n",
       "<table border=\"1\" class=\"dataframe\">\n",
       "  <thead>\n",
       "    <tr style=\"text-align: right;\">\n",
       "      <th></th>\n",
       "      <th>serial</th>\n",
       "      <th>kWh</th>\n",
       "      <th>kW</th>\n",
       "      <th>kVARh</th>\n",
       "      <th>kVAR</th>\n",
       "      <th>Time_stamp</th>\n",
       "    </tr>\n",
       "  </thead>\n",
       "  <tbody>\n",
       "    <tr>\n",
       "      <td>0</td>\n",
       "      <td>3098000032</td>\n",
       "      <td>10.854</td>\n",
       "      <td>0.000</td>\n",
       "      <td>7.814</td>\n",
       "      <td>0.002</td>\n",
       "      <td>2018-03-01 15:30:00</td>\n",
       "    </tr>\n",
       "    <tr>\n",
       "      <td>1</td>\n",
       "      <td>3098000032</td>\n",
       "      <td>10.750</td>\n",
       "      <td>0.000</td>\n",
       "      <td>7.813</td>\n",
       "      <td>0.000</td>\n",
       "      <td>2018-03-01 14:30:00</td>\n",
       "    </tr>\n",
       "    <tr>\n",
       "      <td>2</td>\n",
       "      <td>3098000032</td>\n",
       "      <td>12.325</td>\n",
       "      <td>0.086</td>\n",
       "      <td>8.302</td>\n",
       "      <td>0.076</td>\n",
       "      <td>2018-03-05 09:00:00</td>\n",
       "    </tr>\n",
       "    <tr>\n",
       "      <td>3</td>\n",
       "      <td>3098000032</td>\n",
       "      <td>12.372</td>\n",
       "      <td>0.094</td>\n",
       "      <td>8.345</td>\n",
       "      <td>0.086</td>\n",
       "      <td>2018-03-05 09:30:00</td>\n",
       "    </tr>\n",
       "    <tr>\n",
       "      <td>4</td>\n",
       "      <td>3098000032</td>\n",
       "      <td>12.415</td>\n",
       "      <td>0.086</td>\n",
       "      <td>8.386</td>\n",
       "      <td>0.082</td>\n",
       "      <td>2018-03-05 10:00:00</td>\n",
       "    </tr>\n",
       "    <tr>\n",
       "      <td>...</td>\n",
       "      <td>...</td>\n",
       "      <td>...</td>\n",
       "      <td>...</td>\n",
       "      <td>...</td>\n",
       "      <td>...</td>\n",
       "      <td>...</td>\n",
       "    </tr>\n",
       "    <tr>\n",
       "      <td>95</td>\n",
       "      <td>3098000032</td>\n",
       "      <td>12.282</td>\n",
       "      <td>0.000</td>\n",
       "      <td>8.264</td>\n",
       "      <td>0.000</td>\n",
       "      <td>2018-03-02 11:30:00</td>\n",
       "    </tr>\n",
       "    <tr>\n",
       "      <td>96</td>\n",
       "      <td>3098000032</td>\n",
       "      <td>25.000</td>\n",
       "      <td>0.100</td>\n",
       "      <td>13.023</td>\n",
       "      <td>0.088</td>\n",
       "      <td>2018-03-07 07:30:00</td>\n",
       "    </tr>\n",
       "    <tr>\n",
       "      <td>97</td>\n",
       "      <td>3098000032</td>\n",
       "      <td>25.047</td>\n",
       "      <td>0.094</td>\n",
       "      <td>13.066</td>\n",
       "      <td>0.086</td>\n",
       "      <td>2018-03-07 08:00:00</td>\n",
       "    </tr>\n",
       "    <tr>\n",
       "      <td>98</td>\n",
       "      <td>3098000032</td>\n",
       "      <td>25.089</td>\n",
       "      <td>0.084</td>\n",
       "      <td>13.107</td>\n",
       "      <td>0.082</td>\n",
       "      <td>2018-03-07 08:30:00</td>\n",
       "    </tr>\n",
       "    <tr>\n",
       "      <td>99</td>\n",
       "      <td>3098000032</td>\n",
       "      <td>25.128</td>\n",
       "      <td>0.078</td>\n",
       "      <td>13.146</td>\n",
       "      <td>0.078</td>\n",
       "      <td>2018-03-07 09:00:00</td>\n",
       "    </tr>\n",
       "  </tbody>\n",
       "</table>\n",
       "<p>100 rows × 6 columns</p>\n",
       "</div>"
      ],
      "text/plain": [
       "        serial     kWh     kW   kVARh   kVAR           Time_stamp\n",
       "0   3098000032  10.854  0.000   7.814  0.002  2018-03-01 15:30:00\n",
       "1   3098000032  10.750  0.000   7.813  0.000  2018-03-01 14:30:00\n",
       "2   3098000032  12.325  0.086   8.302  0.076  2018-03-05 09:00:00\n",
       "3   3098000032  12.372  0.094   8.345  0.086  2018-03-05 09:30:00\n",
       "4   3098000032  12.415  0.086   8.386  0.082  2018-03-05 10:00:00\n",
       "..         ...     ...    ...     ...    ...                  ...\n",
       "95  3098000032  12.282  0.000   8.264  0.000  2018-03-02 11:30:00\n",
       "96  3098000032  25.000  0.100  13.023  0.088  2018-03-07 07:30:00\n",
       "97  3098000032  25.047  0.094  13.066  0.086  2018-03-07 08:00:00\n",
       "98  3098000032  25.089  0.084  13.107  0.082  2018-03-07 08:30:00\n",
       "99  3098000032  25.128  0.078  13.146  0.078  2018-03-07 09:00:00\n",
       "\n",
       "[100 rows x 6 columns]"
      ]
     },
     "execution_count": 24,
     "metadata": {},
     "output_type": "execute_result"
    }
   ],
   "source": [
    "dataset.head(100)"
   ]
  },
  {
   "cell_type": "code",
   "execution_count": 25,
   "metadata": {},
   "outputs": [
    {
     "data": {
      "text/html": [
       "<div>\n",
       "<style scoped>\n",
       "    .dataframe tbody tr th:only-of-type {\n",
       "        vertical-align: middle;\n",
       "    }\n",
       "\n",
       "    .dataframe tbody tr th {\n",
       "        vertical-align: top;\n",
       "    }\n",
       "\n",
       "    .dataframe thead th {\n",
       "        text-align: right;\n",
       "    }\n",
       "</style>\n",
       "<table border=\"1\" class=\"dataframe\">\n",
       "  <thead>\n",
       "    <tr style=\"text-align: right;\">\n",
       "      <th></th>\n",
       "      <th>serial</th>\n",
       "      <th>kWh</th>\n",
       "      <th>kW</th>\n",
       "      <th>kVARh</th>\n",
       "      <th>kVAR</th>\n",
       "    </tr>\n",
       "  </thead>\n",
       "  <tbody>\n",
       "    <tr>\n",
       "      <td>count</td>\n",
       "      <td>1.746200e+04</td>\n",
       "      <td>17462.000000</td>\n",
       "      <td>17462.000000</td>\n",
       "      <td>17462.000000</td>\n",
       "      <td>17462.000000</td>\n",
       "    </tr>\n",
       "    <tr>\n",
       "      <td>mean</td>\n",
       "      <td>3.098000e+09</td>\n",
       "      <td>2747.256710</td>\n",
       "      <td>0.750874</td>\n",
       "      <td>1006.527078</td>\n",
       "      <td>0.257706</td>\n",
       "    </tr>\n",
       "    <tr>\n",
       "      <td>std</td>\n",
       "      <td>0.000000e+00</td>\n",
       "      <td>1704.039572</td>\n",
       "      <td>1.097139</td>\n",
       "      <td>543.763389</td>\n",
       "      <td>0.247171</td>\n",
       "    </tr>\n",
       "    <tr>\n",
       "      <td>min</td>\n",
       "      <td>3.098000e+09</td>\n",
       "      <td>10.750000</td>\n",
       "      <td>0.000000</td>\n",
       "      <td>7.813000</td>\n",
       "      <td>0.000000</td>\n",
       "    </tr>\n",
       "    <tr>\n",
       "      <td>25%</td>\n",
       "      <td>3.098000e+09</td>\n",
       "      <td>1358.445000</td>\n",
       "      <td>0.100000</td>\n",
       "      <td>552.427750</td>\n",
       "      <td>0.080000</td>\n",
       "    </tr>\n",
       "    <tr>\n",
       "      <td>50%</td>\n",
       "      <td>3.098000e+09</td>\n",
       "      <td>2981.975000</td>\n",
       "      <td>0.212000</td>\n",
       "      <td>1160.990000</td>\n",
       "      <td>0.190000</td>\n",
       "    </tr>\n",
       "    <tr>\n",
       "      <td>75%</td>\n",
       "      <td>3.098000e+09</td>\n",
       "      <td>3670.370000</td>\n",
       "      <td>0.834000</td>\n",
       "      <td>1486.230000</td>\n",
       "      <td>0.366000</td>\n",
       "    </tr>\n",
       "    <tr>\n",
       "      <td>max</td>\n",
       "      <td>3.098000e+09</td>\n",
       "      <td>6783.840000</td>\n",
       "      <td>6.520000</td>\n",
       "      <td>1721.550000</td>\n",
       "      <td>1.532000</td>\n",
       "    </tr>\n",
       "  </tbody>\n",
       "</table>\n",
       "</div>"
      ],
      "text/plain": [
       "             serial           kWh            kW         kVARh          kVAR\n",
       "count  1.746200e+04  17462.000000  17462.000000  17462.000000  17462.000000\n",
       "mean   3.098000e+09   2747.256710      0.750874   1006.527078      0.257706\n",
       "std    0.000000e+00   1704.039572      1.097139    543.763389      0.247171\n",
       "min    3.098000e+09     10.750000      0.000000      7.813000      0.000000\n",
       "25%    3.098000e+09   1358.445000      0.100000    552.427750      0.080000\n",
       "50%    3.098000e+09   2981.975000      0.212000   1160.990000      0.190000\n",
       "75%    3.098000e+09   3670.370000      0.834000   1486.230000      0.366000\n",
       "max    3.098000e+09   6783.840000      6.520000   1721.550000      1.532000"
      ]
     },
     "execution_count": 25,
     "metadata": {},
     "output_type": "execute_result"
    }
   ],
   "source": [
    "dataset.describe()"
   ]
  },
  {
   "cell_type": "code",
   "execution_count": 26,
   "metadata": {},
   "outputs": [
    {
     "data": {
      "text/plain": [
       "(17462, 6)"
      ]
     },
     "execution_count": 26,
     "metadata": {},
     "output_type": "execute_result"
    }
   ],
   "source": [
    "dataset.shape"
   ]
  },
  {
   "cell_type": "code",
   "execution_count": 27,
   "metadata": {},
   "outputs": [
    {
     "data": {
      "text/plain": [
       "serial          int64\n",
       "kWh           float64\n",
       "kW            float64\n",
       "kVARh         float64\n",
       "kVAR          float64\n",
       "Time_stamp     object\n",
       "dtype: object"
      ]
     },
     "execution_count": 27,
     "metadata": {},
     "output_type": "execute_result"
    }
   ],
   "source": [
    "dataset.dtypes"
   ]
  },
  {
   "cell_type": "code",
   "execution_count": 28,
   "metadata": {},
   "outputs": [
    {
     "data": {
      "text/plain": [
       "serial        0\n",
       "kWh           0\n",
       "kW            0\n",
       "kVARh         0\n",
       "kVAR          0\n",
       "Time_stamp    0\n",
       "dtype: int64"
      ]
     },
     "execution_count": 28,
     "metadata": {},
     "output_type": "execute_result"
    }
   ],
   "source": [
    "#For checking missing values in dataset\n",
    "dataset.isna().sum()"
   ]
  },
  {
   "cell_type": "markdown",
   "metadata": {},
   "source": [
    "dataset.kW.plot()"
   ]
  },
  {
   "cell_type": "code",
   "execution_count": 29,
   "metadata": {},
   "outputs": [],
   "source": [
    "dataset['Time_stamp'] = pd.to_datetime(dataset['Time_stamp'], infer_datetime_format=True)\n",
    "indexedDataset = dataset.set_index(['Time_stamp'])\n",
    "df = pd.DataFrame(dataset, columns=['kW', 'Time_stamp'])"
   ]
  },
  {
   "cell_type": "code",
   "execution_count": 30,
   "metadata": {},
   "outputs": [],
   "source": [
    "#df['Time'] = pd.to_datetime(dataset.Time_stamp)"
   ]
  },
  {
   "cell_type": "code",
   "execution_count": 31,
   "metadata": {},
   "outputs": [
    {
     "data": {
      "image/png": "[encoded data removed]",
      "text/plain": [
       "<Figure size 432x288 with 1 Axes>"
      ]
     },
     "metadata": {
      "needs_background": "light"
     },
     "output_type": "display_data"
    }
   ],
   "source": [
    "import matplotlib.pyplot as plt\n",
    "df.plot(x='Time_stamp', y='kW', kind='line') \n",
    "plt.show()"
   ]
  },
  {
   "cell_type": "code",
   "execution_count": 32,
   "metadata": {},
   "outputs": [
    {
     "data": {
      "text/plain": [
       "3     2759\n",
       "8     1462\n",
       "5     1452\n",
       "12    1440\n",
       "4     1429\n",
       "9     1427\n",
       "11    1421\n",
       "7     1413\n",
       "10    1257\n",
       "2     1239\n",
       "6     1232\n",
       "1      931\n",
       "Name: Time_stamp, dtype: int64"
      ]
     },
     "execution_count": 32,
     "metadata": {},
     "output_type": "execute_result"
    }
   ],
   "source": [
    "#Number of time_stamp per month\n",
    "df.Time_stamp.dt.month.value_counts()"
   ]
  },
  {
   "cell_type": "code",
   "execution_count": 33,
   "metadata": {},
   "outputs": [
    {
     "data": {
      "text/plain": [
       "<matplotlib.axes._subplots.AxesSubplot at 0x7f8c1a44bf50>"
      ]
     },
     "execution_count": 33,
     "metadata": {},
     "output_type": "execute_result"
    },
    {
     "data": {
      "image/png": "[encoded data removed]",
      "text/plain": [
       "<Figure size 432x288 with 1 Axes>"
      ]
     },
     "metadata": {
      "needs_background": "light"
     },
     "output_type": "display_data"
    }
   ],
   "source": [
    "#Line plot of Number of time_stamp per month\n",
    "df.Time_stamp.dt.month.value_counts().sort_index().plot()"
   ]
  },
  {
   "cell_type": "code",
   "execution_count": 14,
   "metadata": {},
   "outputs": [
    {
     "data": {
      "text/plain": [
       "Timestamp('2018-03-01 14:30:00')"
      ]
     },
     "execution_count": 14,
     "metadata": {},
     "output_type": "execute_result"
    }
   ],
   "source": [
    "df.Time_stamp.min()"
   ]
  },
  {
   "cell_type": "code",
   "execution_count": 15,
   "metadata": {},
   "outputs": [
    {
     "data": {
      "text/plain": [
       "Timestamp('2019-04-01 00:00:00')"
      ]
     },
     "execution_count": 15,
     "metadata": {},
     "output_type": "execute_result"
    }
   ],
   "source": [
    "df.Time_stamp.max()"
   ]
  },
  {
   "cell_type": "code",
   "execution_count": null,
   "metadata": {},
   "outputs": [],
   "source": []
  }
 ],
 "metadata": {
  "kernelspec": {
   "display_name": "Python 3",
   "language": "python",
   "name": "python3"
  },
  "language_info": {
   "codemirror_mode": {
    "name": "ipython",
    "version": 3
   },
   "file_extension": ".py",
   "mimetype": "text/x-python",
   "name": "python",
   "nbconvert_exporter": "python",
   "pygments_lexer": "ipython3",
   "version": "3.7.4"
  }
 },
 "nbformat": 4,
 "nbformat_minor": 2
}
