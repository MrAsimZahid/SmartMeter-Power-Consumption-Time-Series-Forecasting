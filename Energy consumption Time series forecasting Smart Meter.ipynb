{
 "cells": [
  {
   "cell_type": "markdown",
   "metadata": {},
   "source": [
    " # Time series prediction\n",
    " \n",
    " Predict kWh 48 hours ahead of current time.\n",
    " \n",
    " In this data reading of meter is bi-hourly. We have to get houly reading in predictions. \n",
    " \n",
    " For optimization, our prediction shold not be deviated more than ±5kWh."
   ]
  },
  {
   "cell_type": "code",
   "execution_count": 57,
   "metadata": {},
   "outputs": [],
   "source": [
    "import numpy as np\n",
    "import matplotlib as plt\n",
    "import pandas as pd\n",
    "%matplotlib inline\n",
    "from matplotlib import rcParams\n",
    "#rcPramas['figure.figsize'] = 10, 6"
   ]
  },
  {
   "cell_type": "code",
   "execution_count": 3,
   "metadata": {},
   "outputs": [],
   "source": [
    "dataset = pd.read_csv(\"3098000032-Mar18-Mar19.csv\")"
   ]
  },
  {
   "cell_type": "code",
   "execution_count": 63,
   "metadata": {},
   "outputs": [
    {
     "data": {
      "text/html": [
       "<div>\n",
       "<style scoped>\n",
       "    .dataframe tbody tr th:only-of-type {\n",
       "        vertical-align: middle;\n",
       "    }\n",
       "\n",
       "    .dataframe tbody tr th {\n",
       "        vertical-align: top;\n",
       "    }\n",
       "\n",
       "    .dataframe thead th {\n",
       "        text-align: right;\n",
       "    }\n",
       "</style>\n",
       "<table border=\"1\" class=\"dataframe\">\n",
       "  <thead>\n",
       "    <tr style=\"text-align: right;\">\n",
       "      <th></th>\n",
       "      <th>serial</th>\n",
       "      <th>kWh</th>\n",
       "      <th>kW</th>\n",
       "      <th>kVARh</th>\n",
       "      <th>kVAR</th>\n",
       "      <th>Time_stamp</th>\n",
       "    </tr>\n",
       "  </thead>\n",
       "  <tbody>\n",
       "    <tr>\n",
       "      <td>0</td>\n",
       "      <td>3098000032</td>\n",
       "      <td>10.854</td>\n",
       "      <td>0.000</td>\n",
       "      <td>7.814</td>\n",
       "      <td>0.002</td>\n",
       "      <td>2018-03-01 15:30:00</td>\n",
       "    </tr>\n",
       "    <tr>\n",
       "      <td>1</td>\n",
       "      <td>3098000032</td>\n",
       "      <td>10.750</td>\n",
       "      <td>0.000</td>\n",
       "      <td>7.813</td>\n",
       "      <td>0.000</td>\n",
       "      <td>2018-03-01 14:30:00</td>\n",
       "    </tr>\n",
       "    <tr>\n",
       "      <td>2</td>\n",
       "      <td>3098000032</td>\n",
       "      <td>12.325</td>\n",
       "      <td>0.086</td>\n",
       "      <td>8.302</td>\n",
       "      <td>0.076</td>\n",
       "      <td>2018-03-05 09:00:00</td>\n",
       "    </tr>\n",
       "    <tr>\n",
       "      <td>3</td>\n",
       "      <td>3098000032</td>\n",
       "      <td>12.372</td>\n",
       "      <td>0.094</td>\n",
       "      <td>8.345</td>\n",
       "      <td>0.086</td>\n",
       "      <td>2018-03-05 09:30:00</td>\n",
       "    </tr>\n",
       "    <tr>\n",
       "      <td>4</td>\n",
       "      <td>3098000032</td>\n",
       "      <td>12.415</td>\n",
       "      <td>0.086</td>\n",
       "      <td>8.386</td>\n",
       "      <td>0.082</td>\n",
       "      <td>2018-03-05 10:00:00</td>\n",
       "    </tr>\n",
       "    <tr>\n",
       "      <td>...</td>\n",
       "      <td>...</td>\n",
       "      <td>...</td>\n",
       "      <td>...</td>\n",
       "      <td>...</td>\n",
       "      <td>...</td>\n",
       "      <td>...</td>\n",
       "    </tr>\n",
       "    <tr>\n",
       "      <td>17457</td>\n",
       "      <td>3098000032</td>\n",
       "      <td>6781.400</td>\n",
       "      <td>0.982</td>\n",
       "      <td>1721.240</td>\n",
       "      <td>0.406</td>\n",
       "      <td>2019-03-31 22:00:00</td>\n",
       "    </tr>\n",
       "    <tr>\n",
       "      <td>17458</td>\n",
       "      <td>3098000032</td>\n",
       "      <td>6781.920</td>\n",
       "      <td>1.040</td>\n",
       "      <td>1721.320</td>\n",
       "      <td>0.460</td>\n",
       "      <td>2019-03-31 22:30:00</td>\n",
       "    </tr>\n",
       "    <tr>\n",
       "      <td>17459</td>\n",
       "      <td>3098000032</td>\n",
       "      <td>6782.520</td>\n",
       "      <td>1.192</td>\n",
       "      <td>1721.390</td>\n",
       "      <td>0.498</td>\n",
       "      <td>2019-03-31 23:00:00</td>\n",
       "    </tr>\n",
       "    <tr>\n",
       "      <td>17460</td>\n",
       "      <td>3098000032</td>\n",
       "      <td>6783.120</td>\n",
       "      <td>0.000</td>\n",
       "      <td>1721.470</td>\n",
       "      <td>0.436</td>\n",
       "      <td>2019-03-31 23:30:00</td>\n",
       "    </tr>\n",
       "    <tr>\n",
       "      <td>17461</td>\n",
       "      <td>3098000032</td>\n",
       "      <td>6783.840</td>\n",
       "      <td>0.000</td>\n",
       "      <td>1721.550</td>\n",
       "      <td>0.000</td>\n",
       "      <td>2019-04-01 00:00:00</td>\n",
       "    </tr>\n",
       "  </tbody>\n",
       "</table>\n",
       "<p>17462 rows × 6 columns</p>\n",
       "</div>"
      ],
      "text/plain": [
       "           serial       kWh     kW     kVARh   kVAR          Time_stamp\n",
       "0      3098000032    10.854  0.000     7.814  0.002 2018-03-01 15:30:00\n",
       "1      3098000032    10.750  0.000     7.813  0.000 2018-03-01 14:30:00\n",
       "2      3098000032    12.325  0.086     8.302  0.076 2018-03-05 09:00:00\n",
       "3      3098000032    12.372  0.094     8.345  0.086 2018-03-05 09:30:00\n",
       "4      3098000032    12.415  0.086     8.386  0.082 2018-03-05 10:00:00\n",
       "...           ...       ...    ...       ...    ...                 ...\n",
       "17457  3098000032  6781.400  0.982  1721.240  0.406 2019-03-31 22:00:00\n",
       "17458  3098000032  6781.920  1.040  1721.320  0.460 2019-03-31 22:30:00\n",
       "17459  3098000032  6782.520  1.192  1721.390  0.498 2019-03-31 23:00:00\n",
       "17460  3098000032  6783.120  0.000  1721.470  0.436 2019-03-31 23:30:00\n",
       "17461  3098000032  6783.840  0.000  1721.550  0.000 2019-04-01 00:00:00\n",
       "\n",
       "[17462 rows x 6 columns]"
      ]
     },
     "execution_count": 63,
     "metadata": {},
     "output_type": "execute_result"
    }
   ],
   "source": [
    "dataset"
   ]
  },
  {
   "cell_type": "code",
   "execution_count": 7,
   "metadata": {},
   "outputs": [
    {
     "data": {
      "text/plain": [
       "(17462, 6)"
      ]
     },
     "execution_count": 7,
     "metadata": {},
     "output_type": "execute_result"
    }
   ],
   "source": [
    "dataset.shape"
   ]
  },
  {
   "cell_type": "code",
   "execution_count": 26,
   "metadata": {},
   "outputs": [
    {
     "data": {
      "text/plain": [
       "serial                 int64\n",
       "kWh                  float64\n",
       "kW                   float64\n",
       "kVARh                float64\n",
       "kVAR                 float64\n",
       "Time_stamp    datetime64[ns]\n",
       "dtype: object"
      ]
     },
     "execution_count": 26,
     "metadata": {},
     "output_type": "execute_result"
    }
   ],
   "source": [
    "dataset.dtypes"
   ]
  },
  {
   "cell_type": "code",
   "execution_count": 61,
   "metadata": {},
   "outputs": [
    {
     "data": {
      "text/plain": [
       "serial        0\n",
       "kWh           0\n",
       "kW            0\n",
       "kVARh         0\n",
       "kVAR          0\n",
       "Time_stamp    0\n",
       "dtype: int64"
      ]
     },
     "execution_count": 61,
     "metadata": {},
     "output_type": "execute_result"
    }
   ],
   "source": [
    "#For checking missing values in dataset\n",
    "dataset.isna().sum()"
   ]
  },
  {
   "cell_type": "code",
   "execution_count": 18,
   "metadata": {},
   "outputs": [
    {
     "data": {
      "text/plain": [
       "<matplotlib.axes._subplots.AxesSubplot at 0x7fab93924910>"
      ]
     },
     "execution_count": 18,
     "metadata": {},
     "output_type": "execute_result"
    },
    {
     "data": {
      "image/png": "[encoded data removed]",
      "text/plain": [
       "<Figure size 432x288 with 1 Axes>"
      ]
     },
     "metadata": {
      "needs_background": "light"
     },
     "output_type": "display_data"
    }
   ],
   "source": [
    "dataset.kWh.plot()"
   ]
  },
  {
   "cell_type": "code",
   "execution_count": 23,
   "metadata": {},
   "outputs": [],
   "source": [
    "df['Time'] = pd.to_datetime(dataset.Time_stamp)"
   ]
  },
  {
   "cell_type": "code",
   "execution_count": 28,
   "metadata": {},
   "outputs": [],
   "source": [
    "dataset['Time_stamp'] = pd.to_datetime(dataset['Time_stamp'], infer_datetime_format=True)\n",
    "indexedDataset = dataset.set_index(['Time_stamp'])\n",
    "df = pd.DataFrame(dataset, columns=['kWh', 'Time_stamp'])"
   ]
  },
  {
   "cell_type": "code",
   "execution_count": 48,
   "metadata": {},
   "outputs": [
    {
     "data": {
      "text/plain": [
       "3     2759\n",
       "8     1462\n",
       "5     1452\n",
       "12    1440\n",
       "4     1429\n",
       "9     1427\n",
       "11    1421\n",
       "7     1413\n",
       "10    1257\n",
       "2     1239\n",
       "6     1232\n",
       "1      931\n",
       "Name: Time_stamp, dtype: int64"
      ]
     },
     "execution_count": 48,
     "metadata": {},
     "output_type": "execute_result"
    }
   ],
   "source": [
    "#Number of time_stamp per month\n",
    "df.Time_stamp.dt.month.value_counts()"
   ]
  },
  {
   "cell_type": "code",
   "execution_count": 52,
   "metadata": {},
   "outputs": [
    {
     "data": {
      "text/plain": [
       "<matplotlib.axes._subplots.AxesSubplot at 0x7fab93189f50>"
      ]
     },
     "execution_count": 52,
     "metadata": {},
     "output_type": "execute_result"
    },
    {
     "data": {
      "image/png": "[encoded data removed]",
      "text/plain": [
       "<Figure size 432x288 with 1 Axes>"
      ]
     },
     "metadata": {
      "needs_background": "light"
     },
     "output_type": "display_data"
    }
   ],
   "source": [
    "#Line plot of Number of time_stamp per month\n",
    "df.Time_stamp.dt.month.value_counts().sort_index().plot()"
   ]
  },
  {
   "cell_type": "code",
   "execution_count": 56,
   "metadata": {},
   "outputs": [
    {
     "data": {
      "text/plain": [
       "Timestamp('2018-03-01 14:30:00')"
      ]
     },
     "execution_count": 56,
     "metadata": {},
     "output_type": "execute_result"
    }
   ],
   "source": [
    "df.Time_stamp.max()\n",
    "df.Time_stamp.min()"
   ]
  },
  {
   "cell_type": "code",
   "execution_count": null,
   "metadata": {},
   "outputs": [],
   "source": []
  }
 ],
 "metadata": {
  "kernelspec": {
   "display_name": "Python 3",
   "language": "python",
   "name": "python3"
  },
  "language_info": {
   "codemirror_mode": {
    "name": "ipython",
    "version": 3
   },
   "file_extension": ".py",
   "mimetype": "text/x-python",
   "name": "python",
   "nbconvert_exporter": "python",
   "pygments_lexer": "ipython3",
   "version": "3.7.4"
  }
 },
 "nbformat": 4,
 "nbformat_minor": 2
}
